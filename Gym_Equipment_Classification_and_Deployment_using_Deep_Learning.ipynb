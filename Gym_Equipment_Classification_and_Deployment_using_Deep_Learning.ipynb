{
  "nbformat": 4,
  "nbformat_minor": 0,
  "metadata": {
    "colab": {
      "provenance": [],
      "authorship_tag": "ABX9TyMG3ZHY1nMf6kruHRU4zRPS",
      "include_colab_link": true
    },
    "kernelspec": {
      "name": "python3",
      "display_name": "Python 3"
    },
    "language_info": {
      "name": "python"
    }
  },
  "cells": [
    {
      "cell_type": "markdown",
      "metadata": {
        "id": "view-in-github",
        "colab_type": "text"
      },
      "source": [
        "<a href=\"https://colab.research.google.com/github/KaiFS/MachineLearningTest/blob/main/Gym_Equipment_Classification_and_Deployment_using_Deep_Learning.ipynb\" target=\"_parent\"><img src=\"https://colab.research.google.com/assets/colab-badge.svg\" alt=\"Open In Colab\"/></a>"
      ]
    },
    {
      "cell_type": "code",
      "execution_count": 1,
      "metadata": {
        "colab": {
          "base_uri": "https://localhost:8080/"
        },
        "id": "K9lArm6DObVz",
        "outputId": "821610ac-3370-4613-91c6-76b7b07a8719"
      },
      "outputs": [
        {
          "output_type": "stream",
          "name": "stdout",
          "text": [
            "Looking in indexes: https://pypi.org/simple, https://us-python.pkg.dev/colab-wheels/public/simple/\n",
            "Collecting pyunpack\n",
            "  Downloading pyunpack-0.3-py2.py3-none-any.whl (4.1 kB)\n",
            "Collecting easyprocess\n",
            "  Downloading EasyProcess-1.1-py3-none-any.whl (8.7 kB)\n",
            "Collecting entrypoint2\n",
            "  Downloading entrypoint2-1.1-py2.py3-none-any.whl (9.9 kB)\n",
            "Installing collected packages: entrypoint2, easyprocess, pyunpack\n",
            "Successfully installed easyprocess-1.1 entrypoint2-1.1 pyunpack-0.3\n",
            "Looking in indexes: https://pypi.org/simple, https://us-python.pkg.dev/colab-wheels/public/simple/\n",
            "Collecting patool\n",
            "  Downloading patool-1.12-py2.py3-none-any.whl (77 kB)\n",
            "\u001b[2K     \u001b[90m━━━━━━━━━━━━━━━━━━━━━━━━━━━━━━━━━━━━━━━━\u001b[0m \u001b[32m77.5/77.5 KB\u001b[0m \u001b[31m3.7 MB/s\u001b[0m eta \u001b[36m0:00:00\u001b[0m\n",
            "\u001b[?25hInstalling collected packages: patool\n",
            "Successfully installed patool-1.12\n"
          ]
        }
      ],
      "source": [
        "!pip install pyunpack\n",
        "!pip install patool"
      ]
    },
    {
      "cell_type": "code",
      "source": [
        "import os"
      ],
      "metadata": {
        "id": "uQ0TsM08OlQw"
      },
      "execution_count": 2,
      "outputs": []
    },
    {
      "cell_type": "code",
      "source": [
        "os.makedirs('/content/benchpress')\n",
        "os.makedirs('/content/hyperextension_bench')\n",
        "os.makedirs('/content/leg_press')\n",
        "os.makedirs('/content/plyometric_box')\n",
        "os.makedirs('/content/power_rack')"
      ],
      "metadata": {
        "id": "VjIymLozOswZ"
      },
      "execution_count": 3,
      "outputs": []
    },
    {
      "cell_type": "code",
      "source": [
        "from pyunpack import Archive\n",
        "Archive('/content/drive/MyDrive/data (1).7z').extractall(\"/content/\")"
      ],
      "metadata": {
        "colab": {
          "base_uri": "https://localhost:8080/",
          "height": 304
        },
        "id": "26PKij_5OvIG",
        "outputId": "f50fa2be-431f-4b61-bd50-bc63ec213cd9"
      },
      "execution_count": 4,
      "outputs": [
        {
          "output_type": "error",
          "ename": "ValueError",
          "evalue": "ignored",
          "traceback": [
            "\u001b[0;31m---------------------------------------------------------------------------\u001b[0m",
            "\u001b[0;31mValueError\u001b[0m                                Traceback (most recent call last)",
            "\u001b[0;32m<ipython-input-4-3e3f9d76448b>\u001b[0m in \u001b[0;36m<module>\u001b[0;34m\u001b[0m\n\u001b[1;32m      1\u001b[0m \u001b[0;32mfrom\u001b[0m \u001b[0mpyunpack\u001b[0m \u001b[0;32mimport\u001b[0m \u001b[0mArchive\u001b[0m\u001b[0;34m\u001b[0m\u001b[0;34m\u001b[0m\u001b[0m\n\u001b[0;32m----> 2\u001b[0;31m \u001b[0mArchive\u001b[0m\u001b[0;34m(\u001b[0m\u001b[0;34m'/content/drive/MyDrive/data (1).7z'\u001b[0m\u001b[0;34m)\u001b[0m\u001b[0;34m.\u001b[0m\u001b[0mextractall\u001b[0m\u001b[0;34m(\u001b[0m\u001b[0;34m\"/content/\"\u001b[0m\u001b[0;34m)\u001b[0m\u001b[0;34m\u001b[0m\u001b[0;34m\u001b[0m\u001b[0m\n\u001b[0m",
            "\u001b[0;32m/usr/local/lib/python3.9/dist-packages/pyunpack/__init__.py\u001b[0m in \u001b[0;36mextractall\u001b[0;34m(self, directory, auto_create_dir, patool_path)\u001b[0m\n\u001b[1;32m    100\u001b[0m         \u001b[0mdirectory\u001b[0m \u001b[0;34m=\u001b[0m \u001b[0m_fullpath\u001b[0m\u001b[0;34m(\u001b[0m\u001b[0mdirectory\u001b[0m\u001b[0;34m)\u001b[0m\u001b[0;34m\u001b[0m\u001b[0;34m\u001b[0m\u001b[0m\n\u001b[1;32m    101\u001b[0m         \u001b[0;32mif\u001b[0m \u001b[0;32mnot\u001b[0m \u001b[0mos\u001b[0m\u001b[0;34m.\u001b[0m\u001b[0mpath\u001b[0m\u001b[0;34m.\u001b[0m\u001b[0mexists\u001b[0m\u001b[0;34m(\u001b[0m\u001b[0mself\u001b[0m\u001b[0;34m.\u001b[0m\u001b[0mfilename\u001b[0m\u001b[0;34m)\u001b[0m\u001b[0;34m:\u001b[0m\u001b[0;34m\u001b[0m\u001b[0;34m\u001b[0m\u001b[0m\n\u001b[0;32m--> 102\u001b[0;31m             \u001b[0;32mraise\u001b[0m \u001b[0mValueError\u001b[0m\u001b[0;34m(\u001b[0m\u001b[0;34m\"archive file does not exist:\"\u001b[0m \u001b[0;34m+\u001b[0m \u001b[0mstr\u001b[0m\u001b[0;34m(\u001b[0m\u001b[0mself\u001b[0m\u001b[0;34m.\u001b[0m\u001b[0mfilename\u001b[0m\u001b[0;34m)\u001b[0m\u001b[0;34m)\u001b[0m\u001b[0;34m\u001b[0m\u001b[0;34m\u001b[0m\u001b[0m\n\u001b[0m\u001b[1;32m    103\u001b[0m         \u001b[0;32mif\u001b[0m \u001b[0;32mnot\u001b[0m \u001b[0mos\u001b[0m\u001b[0;34m.\u001b[0m\u001b[0mpath\u001b[0m\u001b[0;34m.\u001b[0m\u001b[0mexists\u001b[0m\u001b[0;34m(\u001b[0m\u001b[0mdirectory\u001b[0m\u001b[0;34m)\u001b[0m\u001b[0;34m:\u001b[0m\u001b[0;34m\u001b[0m\u001b[0;34m\u001b[0m\u001b[0m\n\u001b[1;32m    104\u001b[0m             \u001b[0;32mif\u001b[0m \u001b[0mauto_create_dir\u001b[0m\u001b[0;34m:\u001b[0m\u001b[0;34m\u001b[0m\u001b[0;34m\u001b[0m\u001b[0m\n",
            "\u001b[0;31mValueError\u001b[0m: archive file does not exist:/content/drive/MyDrive/data (1).7z"
          ]
        }
      ]
    },
    {
      "cell_type": "code",
      "source": [
        "import zipfile\n",
        "with zipfile.ZipFile('/content/data/benchpress.zip', 'r') as zip_ref:\n",
        "    zip_ref.extractall('/content/benchpress/')"
      ],
      "metadata": {
        "colab": {
          "base_uri": "https://localhost:8080/",
          "height": 321
        },
        "id": "KWnpr5-yOyfS",
        "outputId": "db13f3d3-ca90-4abc-ac9e-ee73aaaa168e"
      },
      "execution_count": 5,
      "outputs": [
        {
          "output_type": "error",
          "ename": "FileNotFoundError",
          "evalue": "ignored",
          "traceback": [
            "\u001b[0;31m---------------------------------------------------------------------------\u001b[0m",
            "\u001b[0;31mFileNotFoundError\u001b[0m                         Traceback (most recent call last)",
            "\u001b[0;32m<ipython-input-5-9b7125247c5d>\u001b[0m in \u001b[0;36m<module>\u001b[0;34m\u001b[0m\n\u001b[1;32m      1\u001b[0m \u001b[0;32mimport\u001b[0m \u001b[0mzipfile\u001b[0m\u001b[0;34m\u001b[0m\u001b[0;34m\u001b[0m\u001b[0m\n\u001b[0;32m----> 2\u001b[0;31m \u001b[0;32mwith\u001b[0m \u001b[0mzipfile\u001b[0m\u001b[0;34m.\u001b[0m\u001b[0mZipFile\u001b[0m\u001b[0;34m(\u001b[0m\u001b[0;34m'/content/data/benchpress.zip'\u001b[0m\u001b[0;34m,\u001b[0m \u001b[0;34m'r'\u001b[0m\u001b[0;34m)\u001b[0m \u001b[0;32mas\u001b[0m \u001b[0mzip_ref\u001b[0m\u001b[0;34m:\u001b[0m\u001b[0;34m\u001b[0m\u001b[0;34m\u001b[0m\u001b[0m\n\u001b[0m\u001b[1;32m      3\u001b[0m     \u001b[0mzip_ref\u001b[0m\u001b[0;34m.\u001b[0m\u001b[0mextractall\u001b[0m\u001b[0;34m(\u001b[0m\u001b[0;34m'/content/benchpress/'\u001b[0m\u001b[0;34m)\u001b[0m\u001b[0;34m\u001b[0m\u001b[0;34m\u001b[0m\u001b[0m\n",
            "\u001b[0;32m/usr/lib/python3.9/zipfile.py\u001b[0m in \u001b[0;36m__init__\u001b[0;34m(self, file, mode, compression, allowZip64, compresslevel, strict_timestamps)\u001b[0m\n\u001b[1;32m   1246\u001b[0m             \u001b[0;32mwhile\u001b[0m \u001b[0;32mTrue\u001b[0m\u001b[0;34m:\u001b[0m\u001b[0;34m\u001b[0m\u001b[0;34m\u001b[0m\u001b[0m\n\u001b[1;32m   1247\u001b[0m                 \u001b[0;32mtry\u001b[0m\u001b[0;34m:\u001b[0m\u001b[0;34m\u001b[0m\u001b[0;34m\u001b[0m\u001b[0m\n\u001b[0;32m-> 1248\u001b[0;31m                     \u001b[0mself\u001b[0m\u001b[0;34m.\u001b[0m\u001b[0mfp\u001b[0m \u001b[0;34m=\u001b[0m \u001b[0mio\u001b[0m\u001b[0;34m.\u001b[0m\u001b[0mopen\u001b[0m\u001b[0;34m(\u001b[0m\u001b[0mfile\u001b[0m\u001b[0;34m,\u001b[0m \u001b[0mfilemode\u001b[0m\u001b[0;34m)\u001b[0m\u001b[0;34m\u001b[0m\u001b[0;34m\u001b[0m\u001b[0m\n\u001b[0m\u001b[1;32m   1249\u001b[0m                 \u001b[0;32mexcept\u001b[0m \u001b[0mOSError\u001b[0m\u001b[0;34m:\u001b[0m\u001b[0;34m\u001b[0m\u001b[0;34m\u001b[0m\u001b[0m\n\u001b[1;32m   1250\u001b[0m                     \u001b[0;32mif\u001b[0m \u001b[0mfilemode\u001b[0m \u001b[0;32min\u001b[0m \u001b[0mmodeDict\u001b[0m\u001b[0;34m:\u001b[0m\u001b[0;34m\u001b[0m\u001b[0;34m\u001b[0m\u001b[0m\n",
            "\u001b[0;31mFileNotFoundError\u001b[0m: [Errno 2] No such file or directory: '/content/data/benchpress.zip'"
          ]
        }
      ]
    },
    {
      "cell_type": "code",
      "source": [
        "import zipfile\n",
        "with zipfile.ZipFile('/content/data/hyperextension-bench.zip', 'r') as zip_ref:\n",
        "    zip_ref.extractall('/content/hyperextension_bench/')"
      ],
      "metadata": {
        "id": "lmypKZ-JO1rD"
      },
      "execution_count": null,
      "outputs": []
    },
    {
      "cell_type": "code",
      "source": [
        "import zipfile\n",
        "with zipfile.ZipFile('/content/data/leg-press.zip', 'r') as zip_ref:\n",
        "    zip_ref.extractall('/content/leg_press/')"
      ],
      "metadata": {
        "id": "w4vwDcPTO3Ov"
      },
      "execution_count": null,
      "outputs": []
    },
    {
      "cell_type": "code",
      "source": [
        "import zipfile\n",
        "with zipfile.ZipFile('/content/data/plyometric-box.zip', 'r') as zip_ref:\n",
        "    zip_ref.extractall('/content/plyometric_box/')"
      ],
      "metadata": {
        "id": "A6TBbV9UO6ng"
      },
      "execution_count": null,
      "outputs": []
    },
    {
      "cell_type": "code",
      "source": [
        "import zipfile\n",
        "with zipfile.ZipFile('/content/data/power-rack.zip', 'r') as zip_ref:\n",
        "    zip_ref.extractall('/content/power_rack/')"
      ],
      "metadata": {
        "id": "AcuAcq0FO8GE"
      },
      "execution_count": null,
      "outputs": []
    },
    {
      "cell_type": "code",
      "source": [
        "import os\n",
        "\n",
        "dir_name = \"/content/benchpress/\"\n",
        "test = os.listdir(dir_name)\n",
        "\n",
        "for item in test:\n",
        "    if item.endswith(\".svg\"):\n",
        "        os.remove(os.path.join(dir_name, item))\n",
        "\n",
        "dir_name = \"/content/benchpress/\"\n",
        "test = os.listdir(dir_name)\n",
        "\n",
        "for item in test:\n",
        "    if item.endswith(\".webp\"):\n",
        "        os.remove(os.path.join(dir_name, item))"
      ],
      "metadata": {
        "id": "j56FJboEO-6M"
      },
      "execution_count": null,
      "outputs": []
    },
    {
      "cell_type": "code",
      "source": [
        "import os\n",
        "\n",
        "dir_name = \"/content/hyperextension_bench/\"\n",
        "test = os.listdir(dir_name)\n",
        "\n",
        "for item in test:\n",
        "    if item.endswith(\".svg\"):\n",
        "        os.remove(os.path.join(dir_name, item))\n",
        "\n",
        "dir_name = \"/content/hyperextension_bench/\"\n",
        "test = os.listdir(dir_name)\n",
        "\n",
        "for item in test:\n",
        "    if item.endswith(\".webp\"):\n",
        "        os.remove(os.path.join(dir_name, item))"
      ],
      "metadata": {
        "id": "KCrzSD13PDPH"
      },
      "execution_count": null,
      "outputs": []
    },
    {
      "cell_type": "code",
      "source": [
        "import os\n",
        "\n",
        "dir_name = \"/content/leg_press/\"\n",
        "test = os.listdir(dir_name)\n",
        "\n",
        "for item in test:\n",
        "    if item.endswith(\".svg\"):\n",
        "        os.remove(os.path.join(dir_name, item))\n",
        "\n",
        "dir_name = \"/content/leg_press/\"\n",
        "test = os.listdir(dir_name)\n",
        "\n",
        "for item in test:\n",
        "    if item.endswith(\".webp\"):\n",
        "        os.remove(os.path.join(dir_name, item))"
      ],
      "metadata": {
        "id": "cnNe3NZuPErk"
      },
      "execution_count": null,
      "outputs": []
    },
    {
      "cell_type": "code",
      "source": [
        "import os\n",
        "\n",
        "dir_name = \"/content/plyometric_box/\"\n",
        "test = os.listdir(dir_name)\n",
        "\n",
        "for item in test:\n",
        "    if item.endswith(\".svg\"):\n",
        "        os.remove(os.path.join(dir_name, item))\n",
        "\n",
        "dir_name = \"/content/plyometric_box/\"\n",
        "test = os.listdir(dir_name)\n",
        "\n",
        "for item in test:\n",
        "    if item.endswith(\".webp\"):\n",
        "        os.remove(os.path.join(dir_name, item))"
      ],
      "metadata": {
        "id": "U9QxKDWqPHcC"
      },
      "execution_count": null,
      "outputs": []
    },
    {
      "cell_type": "code",
      "source": [
        "import os\n",
        "\n",
        "dir_name = \"/content/power_rack/\"\n",
        "test = os.listdir(dir_name)\n",
        "\n",
        "for item in test:\n",
        "    if item.endswith(\".svg\"):\n",
        "        os.remove(os.path.join(dir_name, item))\n",
        "\n",
        "dir_name = \"/content/power_rack/\"\n",
        "test = os.listdir(dir_name)\n",
        "\n",
        "for item in test:\n",
        "    if item.endswith(\".webp\"):\n",
        "        os.remove(os.path.join(dir_name, item))"
      ],
      "metadata": {
        "id": "o39RvDW3PH-h"
      },
      "execution_count": null,
      "outputs": []
    },
    {
      "cell_type": "code",
      "source": [
        "!pip install split-folders"
      ],
      "metadata": {
        "id": "T4e_byBkPJ-F"
      },
      "execution_count": null,
      "outputs": []
    },
    {
      "cell_type": "code",
      "source": [
        "os.makedirs('/content/Gym_Dataset_Model')"
      ],
      "metadata": {
        "id": "VTIHFYtKPLQn"
      },
      "execution_count": null,
      "outputs": []
    },
    {
      "cell_type": "code",
      "source": [
        "import splitfolders\n",
        "\n",
        "splitfolders.ratio(\"/content/Gym_Dataset\", output=\"/content/Gym_Dataset_Model\",\n",
        "    seed=1337, ratio=(.8, .1, .1), group_prefix=None, move=False) # default values"
      ],
      "metadata": {
        "id": "dMW-vNsHPMsB"
      },
      "execution_count": null,
      "outputs": []
    },
    {
      "cell_type": "code",
      "source": [
        "%tensorflow_version 2.x\n",
        "\n",
        "import warnings \n",
        "warnings.filterwarnings(\"ignore\")\n",
        "\n",
        "import os\n",
        "import glob\n",
        "import cv2\n",
        "from pathlib import Path\n",
        "\n",
        "import numpy as np\n",
        "import pandas as pd\n",
        "import matplotlib.pyplot as plt\n",
        "import seaborn as sns\n",
        "\n",
        "from skimage.io import imread, imsave\n",
        "from skimage.transform import resize \n",
        "from sklearn.model_selection import train_test_split\n",
        "from tensorflow.keras.models import Model\n",
        "from tensorflow.keras import layers\n",
        "from tensorflow.keras.applications import vgg16\n",
        "from tensorflow.keras.utils import to_categorical\n",
        "from tensorflow.keras.optimizers import SGD, Adam, RMSprop\n",
        "\n",
        "import tensorflow as tf\n",
        "import tensorflow.keras.backend as K\n",
        "import tensorflow_datasets as tfds\n",
        "import tensorflow_hub as hub\n",
        "\n",
        "import imgaug as ia\n",
        "from imgaug import augmenters as iaa"
      ],
      "metadata": {
        "id": "OMhHtoxVPOKp"
      },
      "execution_count": null,
      "outputs": []
    },
    {
      "cell_type": "code",
      "source": [
        "def build_model():\n",
        "  base_model = vgg16.VGG16(input_shape=(128,128,3), \n",
        "                      weights='imagenet', \n",
        "                      include_top=False)\n",
        "  \n",
        "  output = layers.GlobalAveragePooling2D()(base_model.output)\n",
        "\n",
        "  output = layers.Dense(5, activation='softmax')(output)\n",
        "\n",
        "  model = Model(base_model.input, output)\n",
        "\n",
        "  for layer in base_model.layers[:-4]:\n",
        "      layer.trainable=  True\n",
        "\n",
        "  optimizer = tf.keras.optimizers.Adam(0.00005)\n",
        "\n",
        "  model.compile(loss='categorical_crossentropy', \n",
        "                optimizer=optimizer, \n",
        "                metrics=['accuracy'])\n",
        "  \n",
        "  model.summary()\n",
        "  \n",
        "  return model"
      ],
      "metadata": {
        "id": "zufIPwlzPPsF"
      },
      "execution_count": null,
      "outputs": []
    },
    {
      "cell_type": "code",
      "source": [
        "model = build_model()\n"
      ],
      "metadata": {
        "id": "sjaMYA2ZPTJu"
      },
      "execution_count": null,
      "outputs": []
    },
    {
      "cell_type": "code",
      "source": [
        "from keras.models import Sequential\n",
        "from keras.layers import Conv2D, MaxPooling2D, Dense, Flatten, Dropout\n",
        "from keras.preprocessing.image import ImageDataGenerator"
      ],
      "metadata": {
        "id": "PXtFzHEyPYGR"
      },
      "execution_count": null,
      "outputs": []
    },
    {
      "cell_type": "code",
      "source": [
        "src_path_train = \"/content/Gym_Dataset_Model/train\"\n",
        "src_path_test = \"/content/Gym_Dataset_Model/test\"\n",
        "src_path_valid='/content/Gym_Dataset_Model/val'"
      ],
      "metadata": {
        "id": "f5gByeFBPaGM"
      },
      "execution_count": null,
      "outputs": []
    },
    {
      "cell_type": "code",
      "source": [
        "train_datagen = ImageDataGenerator(\n",
        "        rescale=1 / 255.0,\n",
        "        horizontal_flip=True)\n",
        "\n",
        "test_datagen = ImageDataGenerator(rescale=1 / 255.0)\n",
        "valid_datagen = ImageDataGenerator(rescale=1 / 255.0)"
      ],
      "metadata": {
        "id": "XKdSYpcOPbFF"
      },
      "execution_count": null,
      "outputs": []
    },
    {
      "cell_type": "code",
      "source": [
        "batch_size = 16\n",
        "train_generator = train_datagen.flow_from_directory(\n",
        "    directory=src_path_train,\n",
        "    target_size=(128, 128),\n",
        "    batch_size=batch_size,\n",
        "    seed=42\n",
        ")\n",
        "test_generator = test_datagen.flow_from_directory(\n",
        "    directory=src_path_test,\n",
        "    target_size=(128, 128),\n",
        "    batch_size=batch_size,\n",
        "    seed=42\n",
        ")\n",
        "valid_generator = valid_datagen.flow_from_directory(\n",
        "    directory=src_path_valid,\n",
        "    target_size=(128, 128),\n",
        "    batch_size=batch_size,\n",
        "    seed=42\n",
        ")\n"
      ],
      "metadata": {
        "id": "MXJuqbxHPcHn"
      },
      "execution_count": null,
      "outputs": []
    },
    {
      "cell_type": "code",
      "source": [
        "EPOCHS = 50\n",
        "history=model.fit(train_generator,\n",
        "          epochs=EPOCHS,\n",
        "          validation_data=valid_generator)"
      ],
      "metadata": {
        "id": "QdCbh8--Pdq9"
      },
      "execution_count": null,
      "outputs": []
    },
    {
      "cell_type": "code",
      "source": [
        "y_pred=model.predict(test_generator)"
      ],
      "metadata": {
        "id": "QQ90ETfhPe_L"
      },
      "execution_count": null,
      "outputs": []
    },
    {
      "cell_type": "code",
      "source": [
        "y_predA=np.argmax(y_pred,axis=1)"
      ],
      "metadata": {
        "id": "hBmUZKN7PjFW"
      },
      "execution_count": null,
      "outputs": []
    },
    {
      "cell_type": "code",
      "source": [
        "y_predA"
      ],
      "metadata": {
        "id": "4nJoyoHVPkO-"
      },
      "execution_count": null,
      "outputs": []
    },
    {
      "cell_type": "code",
      "source": [
        "Y=test_generator.labels"
      ],
      "metadata": {
        "id": "X_2Opcd0PlZs"
      },
      "execution_count": null,
      "outputs": []
    },
    {
      "cell_type": "code",
      "source": [
        "Y"
      ],
      "metadata": {
        "id": "zJUFEgq9PnQG"
      },
      "execution_count": null,
      "outputs": []
    },
    {
      "cell_type": "code",
      "source": [
        "from sklearn.metrics import accuracy_score,recall_score,f1_score,precision_score"
      ],
      "metadata": {
        "id": "NH7tHoYrPogX"
      },
      "execution_count": null,
      "outputs": []
    },
    {
      "cell_type": "code",
      "source": [
        "precision_F=precision_score(Y,y_predA)\n",
        "recall_F=recall_score(Y,y_predA)\n",
        "f1_score_F=f1_score(Y,y_predA)\n",
        "accuracy_F=accuracy_score(Y,y_predA)\n",
        "\n",
        "print('Accuracy Score for {} '.format(1),accuracy_F*100)\n",
        "print('\\n')\n",
        "print('Precision Score for {}'.format(1),precision_F*100)\n",
        "print('\\n')\n",
        "print('Recall Score for {}'.format(1),recall_F*100)          \n",
        "print('\\n')\n",
        "print('F1 Score for {}'.format(1),f1_score_F*100)\n",
        "print('Completed !!')"
      ],
      "metadata": {
        "id": "zzc88IFoPqB5"
      },
      "execution_count": null,
      "outputs": []
    }
  ]
}